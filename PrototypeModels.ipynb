{
 "cells": [
  {
   "cell_type": "code",
   "execution_count": 13,
   "metadata": {
    "collapsed": false
   },
   "outputs": [],
   "source": [
    "from keras.models import Sequential\n",
    "from keras.layers import Dense, Activation\n",
    "from keras.optimizers import SGD\n",
    "import tensorflow as tf\n",
    "import numpy as np"
   ]
  },
  {
   "cell_type": "markdown",
   "metadata": {},
   "source": [
    "# Define custom API for creating and adding layers to NN Model"
   ]
  },
  {
   "cell_type": "code",
   "execution_count": 16,
   "metadata": {
    "collapsed": false
   },
   "outputs": [],
   "source": [
    "def conv2d_layer(w_shape, prev_layer_out, layer_stride, w_name, if_relu):\n",
    "    w_conv = tf.Variable(tf.random_normal(w_shape, stddev=0.35),\n",
    "                      name=w_name)\n",
    "    nextLayer = None\n",
    "    if if_relu:\n",
    "        nextLayer = tf.nn.relu(tf.nn.conv2d(prev_layer_out, w_conv, \n",
    "                        strides=layer_stride, padding='SAME',use_cudnn_on_gpu=False, name=w_name))\n",
    "    else:\n",
    "        nextLayer = tf.nn.conv2d(prev_layer_out, w_conv, \n",
    "                        strides=layer_stride, padding='SAME',use_cudnn_on_gpu=False,name=w_name)\n",
    "    \n",
    "    return nextLayer\n",
    "\n",
    "\n",
    "def conv3d_layer(w_shape, prev_layer_out, layer_stride, w_name, if_relu):\n",
    "    w_conv = tf.Variable(tf.random_normal(w_shape, stddev=0.35),\n",
    "                      name=w_name)\n",
    "    nextLayer = None\n",
    "    if if_relu:\n",
    "        nextLayer = tf.nn.relu(tf.nn.conv3d(prev_layer_out, w_conv, \n",
    "                        strides=layer_stride, padding='SAME',use_cudnn_on_gpu=False,name=w_name))\n",
    "    else:\n",
    "        nextLayer = tf.nn.conv3d(prev_layer_out, w_conv, \n",
    "                        strides=layer_stride, padding='SAME',use_cudnn_on_gpu=False,name=w_name)\n",
    "    \n",
    "    return nextLayer\n",
    "    \n",
    "def max_pool(prev_layer, window_size, str_size):\n",
    "    next_layer = tf.nn.max_pool(prev_layer, ksize=window_size,\n",
    "                        strides=str_size, padding='SAME')\n",
    "    return next_layer\n",
    "\n",
    "def dropout(prev_layer,  p_keep):\n",
    "    next_layer = tf.nn.dropout(prev_layer, p_keep)\n",
    "    return next_layer\n",
    "\n",
    "def relu(prev_layer, window_size, str_size):\n",
    "    next_layer = tf.nn.relu(prev_layer)\n",
    "    return next_layer\n"
   ]
  },
  {
   "cell_type": "code",
   "execution_count": null,
   "metadata": {
    "collapsed": true
   },
   "outputs": [],
   "source": [
    "def build_model(X, Y):\n",
    "    "
   ]
  }
 ],
 "metadata": {
  "kernelspec": {
   "display_name": "Python 2",
   "language": "python",
   "name": "python2"
  },
  "language_info": {
   "codemirror_mode": {
    "name": "ipython",
    "version": 2
   },
   "file_extension": ".py",
   "mimetype": "text/x-python",
   "name": "python",
   "nbconvert_exporter": "python",
   "pygments_lexer": "ipython2",
   "version": "2.7.6"
  }
 },
 "nbformat": 4,
 "nbformat_minor": 1
}
