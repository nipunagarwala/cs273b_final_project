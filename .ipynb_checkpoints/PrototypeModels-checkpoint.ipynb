{
 "cells": [
  {
   "cell_type": "code",
   "execution_count": 1,
   "metadata": {
    "collapsed": false
   },
   "outputs": [
    {
     "name": "stderr",
     "output_type": "stream",
     "text": [
      "Using Theano backend.\n",
      "ERROR (theano.sandbox.cuda): Failed to compile cuda_ndarray.cu: libcublas.so.8.0: cannot open shared object file: No such file or directory\n",
      "WARNING (theano.sandbox.cuda): CUDA is installed, but device gpu0 is not available  (error: cuda unavailable)\n",
      "/usr/local/anaconda3/envs/dragonn/lib/python2.7/site-packages/theano/tensor/signal/downsample.py:6: UserWarning: downsample module has been moved to the theano.tensor.signal.pool module.\n",
      "  \"downsample module has been moved to the theano.tensor.signal.pool module.\")\n"
     ]
    },
    {
     "ename": "ImportError",
     "evalue": "No module named tensorflow",
     "output_type": "error",
     "traceback": [
      "\u001b[0;31m---------------------------------------------------------------------------\u001b[0m",
      "\u001b[0;31mImportError\u001b[0m                               Traceback (most recent call last)",
      "\u001b[0;32m<ipython-input-1-df3dfb0c6132>\u001b[0m in \u001b[0;36m<module>\u001b[0;34m()\u001b[0m\n\u001b[1;32m      2\u001b[0m \u001b[0;32mfrom\u001b[0m \u001b[0mkeras\u001b[0m\u001b[0;34m.\u001b[0m\u001b[0mlayers\u001b[0m \u001b[0;32mimport\u001b[0m \u001b[0mDense\u001b[0m\u001b[0;34m,\u001b[0m \u001b[0mActivation\u001b[0m\u001b[0;34m\u001b[0m\u001b[0m\n\u001b[1;32m      3\u001b[0m \u001b[0;32mfrom\u001b[0m \u001b[0mkeras\u001b[0m\u001b[0;34m.\u001b[0m\u001b[0moptimizers\u001b[0m \u001b[0;32mimport\u001b[0m \u001b[0mSGD\u001b[0m\u001b[0;34m\u001b[0m\u001b[0m\n\u001b[0;32m----> 4\u001b[0;31m \u001b[0;32mimport\u001b[0m \u001b[0mtensorflow\u001b[0m \u001b[0;32mas\u001b[0m \u001b[0mtf\u001b[0m\u001b[0;34m\u001b[0m\u001b[0m\n\u001b[0m\u001b[1;32m      5\u001b[0m \u001b[0;32mimport\u001b[0m \u001b[0mnumpy\u001b[0m \u001b[0;32mas\u001b[0m \u001b[0mnp\u001b[0m\u001b[0;34m\u001b[0m\u001b[0m\n",
      "\u001b[0;31mImportError\u001b[0m: No module named tensorflow"
     ]
    }
   ],
   "source": [
    "from keras.models import Sequential\n",
    "from keras.layers import Dense, Activation\n",
    "from keras.optimizers import SGD\n",
    "import tensorflow as tf\n",
    "import numpy as np"
   ]
  },
  {
   "cell_type": "markdown",
   "metadata": {},
   "source": [
    "# Define custom API for creating and adding layers to NN Model"
   ]
  },
  {
   "cell_type": "code",
   "execution_count": 16,
   "metadata": {
    "collapsed": false
   },
   "outputs": [],
   "source": [
    "def conv2d_layer(w_shape, prev_layer_out, layer_stride, w_name, if_relu):\n",
    "    w_conv = tf.Variable(tf.random_normal(w_shape, stddev=0.35),\n",
    "                      name=w_name)\n",
    "    nextLayer = None\n",
    "    if if_relu:\n",
    "        nextLayer = tf.nn.relu(tf.nn.conv2d(prev_layer_out, w_conv, \n",
    "                        strides=layer_stride, padding='SAME',use_cudnn_on_gpu=False, name=w_name))\n",
    "    else:\n",
    "        nextLayer = tf.nn.conv2d(prev_layer_out, w_conv, \n",
    "                        strides=layer_stride, padding='SAME',use_cudnn_on_gpu=False,name=w_name)\n",
    "    \n",
    "    return nextLayer\n",
    "\n",
    "\n",
    "def conv3d_layer(w_shape, prev_layer_out, layer_stride, w_name, if_relu):\n",
    "    w_conv = tf.Variable(tf.random_normal(w_shape, stddev=0.35),\n",
    "                      name=w_name)\n",
    "    nextLayer = None\n",
    "    if if_relu:\n",
    "        nextLayer = tf.nn.relu(tf.nn.conv3d(prev_layer_out, w_conv, \n",
    "                        strides=layer_stride, padding='SAME',use_cudnn_on_gpu=False,name=w_name))\n",
    "    else:\n",
    "        nextLayer = tf.nn.conv3d(prev_layer_out, w_conv, \n",
    "                        strides=layer_stride, padding='SAME',use_cudnn_on_gpu=False,name=w_name)\n",
    "    \n",
    "    return nextLayer\n",
    "    \n",
    "def max_pool(prev_layer, window_size, str_size):\n",
    "    next_layer = tf.nn.max_pool(prev_layer, ksize=window_size,\n",
    "                        strides=str_size, padding='SAME')\n",
    "    return next_layer\n",
    "\n",
    "def dropout(prev_layer,  p_keep):\n",
    "    next_layer = tf.nn.dropout(prev_layer, p_keep)\n",
    "    return next_layer\n",
    "\n",
    "def relu(prev_layer, window_size, str_size):\n",
    "    next_layer = tf.nn.relu(prev_layer)\n",
    "    return next_layer\n"
   ]
  },
  {
   "cell_type": "code",
   "execution_count": null,
   "metadata": {
    "collapsed": true
   },
   "outputs": [],
   "source": [
    "def build_model(X, Y):\n",
    "    "
   ]
  }
 ],
 "metadata": {
  "anaconda-cloud": {},
  "kernelspec": {
   "display_name": "Python 2",
   "language": "python",
   "name": "python2"
  },
  "language_info": {
   "codemirror_mode": {
    "name": "ipython",
    "version": 2
   },
   "file_extension": ".py",
   "mimetype": "text/x-python",
   "name": "python",
   "nbconvert_exporter": "python",
   "pygments_lexer": "ipython2",
   "version": "2.7.12"
  }
 },
 "nbformat": 4,
 "nbformat_minor": 1
}
